{
 "cells": [
  {
   "cell_type": "code",
   "execution_count": 6,
   "id": "c6a5069f",
   "metadata": {},
   "outputs": [],
   "source": [
    "from langchain_google_genai import GoogleGenerativeAIEmbeddings\n",
    "from langchain.vectorstores import Qdrant\n",
    "from langchain.text_splitter import RecursiveCharacterTextSplitter\n",
    "from langchain.document_loaders import PyPDFLoader\n",
    "import google.generativeai as genai\n",
    "import os\n",
    "from dotenv import load_dotenv"
   ]
  },
  {
   "cell_type": "code",
   "execution_count": 7,
   "id": "cf267c9a",
   "metadata": {},
   "outputs": [],
   "source": [
    "#load gemini api key from .env file\n",
    "load_dotenv()\n",
    "gemini_api_key = os.getenv(\"GEMINI_API_KEY\")\n",
    "qdrant_api_key = os.getenv(\"QDRANT_API_KEY\")\n",
    "if not gemini_api_key:\n",
    "    raise ValueError(\"GEMINI_API_KEY is not set in the environment variables.\")\n",
    "if not qdrant_api_key:\n",
    "    raise ValueError(\"QDRANT_API_KEY is not set in the environment variables.\")\n"
   ]
  },
  {
   "cell_type": "code",
   "execution_count": 8,
   "id": "6c909dfe",
   "metadata": {},
   "outputs": [
    {
     "name": "stdout",
     "output_type": "stream",
     "text": [
      "Collection 'gemini_embeddings' already exists.\n"
     ]
    }
   ],
   "source": [
    "from qdrant_client.models import VectorParams, Distance\n",
    "from qdrant_client import QdrantClient\n",
    "qdrant_client = QdrantClient(\n",
    "    url=\"https://d5a5f5ce-ffe6-4b64-b58e-361b6ec60509.us-west-2-0.aws.cloud.qdrant.io\",\n",
    "    api_key=qdrant_api_key,\n",
    ")\n",
    "collection_name = \"gemini_embeddings\"\n",
    "try:\n",
    "    collection_info = qdrant_client.get_collection(collection_name)\n",
    "    print(f\"Collection '{collection_name}' already exists.\")\n",
    "except Exception as e:\n",
    "    try:\n",
    "        qdrant_client.create_collection(\n",
    "            collection_name=collection_name,\n",
    "            vectors_config=VectorParams(size=768, distance=Distance.COSINE)\n",
    "        )\n",
    "        print(f\"Collection '{collection_name}' created successfully.\")\n",
    "    except Exception as create_error:\n",
    "        print(f\"Failed to create collection '{collection_name}': {create_error}\")"
   ]
  },
  {
   "cell_type": "code",
   "execution_count": 11,
   "id": "f62d85fc",
   "metadata": {},
   "outputs": [
    {
     "name": "stderr",
     "output_type": "stream",
     "text": [
      "/tmp/ipykernel_14754/2480276051.py:17: LangChainDeprecationWarning: The class `Qdrant` was deprecated in LangChain 0.0.37 and will be removed in 1.0. An updated version of the class exists in the :class:`~langchain-qdrant package and should be used instead. To use it run `pip install -U :class:`~langchain-qdrant` and import as `from :class:`~langchain_qdrant import Qdrant``.\n",
      "  vector_store = Qdrant(\n"
     ]
    },
    {
     "data": {
      "text/plain": [
       "['f5ccda36d58f490b9adc1312a7ea58ed',\n",
       " '729cc79e50b14e1dba08817e5b7470c9',\n",
       " 'f9d95e74051d439489422d2c0be94a36',\n",
       " '87b509332cce42efa34826980f7c6d1f',\n",
       " 'b5b5364789a4420a91fd4836af946ae9']"
      ]
     },
     "execution_count": 11,
     "metadata": {},
     "output_type": "execute_result"
    }
   ],
   "source": [
    "pdf_file_path = \"Docker.pdf\"\n",
    "loader = PyPDFLoader(pdf_file_path)\n",
    "documents = loader.load()\n",
    "text_splitter = RecursiveCharacterTextSplitter(\n",
    "    chunk_size=768,\n",
    "    chunk_overlap=200\n",
    ")\n",
    "split_documents = text_splitter.split_documents(documents)\n",
    "embeddings = GoogleGenerativeAIEmbeddings(\n",
    "    model=\"models/embedding-001\",\n",
    "    google_api_key=gemini_api_key,\n",
    "    max_retries=3,\n",
    "    timeout=60,\n",
    ")\n",
    "\n",
    "# Create the vector store instance with the existing client\n",
    "vector_store = Qdrant(\n",
    "    client=qdrant_client,\n",
    "    collection_name=collection_name,\n",
    "    embeddings=embeddings,\n",
    ")\n",
    "\n",
    "# Add documents to the vector store\n",
    "vector_store.add_documents(split_documents)"
   ]
  },
  {
   "cell_type": "code",
   "execution_count": 12,
   "id": "8e7cbe56",
   "metadata": {},
   "outputs": [
    {
     "name": "stdout",
     "output_type": "stream",
     "text": [
      "Found 3 similar documents for query: 'What is Docker?'\n",
      "\n",
      "First result:\n",
      "Docker \n",
      "• Docker is an open-source platform that automates the deployment, scaling, and \n",
      "management of applications inside containers. \n",
      "• Containers package software with all its dependencies, ensurin...\n"
     ]
    }
   ],
   "source": [
    "# Test the vector store with a similarity search\n",
    "query = \"What is Docker?\"\n",
    "similar_docs = vector_store.similarity_search(query, k=3)\n",
    "print(f\"Found {len(similar_docs)} similar documents for query: '{query}'\")\n",
    "print(\"\\nFirst result:\")\n",
    "print(similar_docs[0].page_content[:200] + \"...\" if len(similar_docs[0].page_content) > 200 else similar_docs[0].page_content)"
   ]
  },
  {
   "cell_type": "code",
   "execution_count": 5,
   "id": "f1724c71",
   "metadata": {},
   "outputs": [
    {
     "name": "stdout",
     "output_type": "stream",
     "text": [
      "Preprocessed user query: insurance plan duration\n"
     ]
    }
   ],
   "source": [
    "from google.genai import types\n",
    "# from lib.pdf_loader import load_pdf, split_Document\n",
    "# from lib.db_manager import Qdrant_manager\n",
    "# from lib.chunker import chunker_recursive\n",
    "from google import genai\n",
    "# from google.adk.agents import Agent\n",
    "from dotenv import load_dotenv\n",
    "load_dotenv()\n",
    "\n",
    "model = \"gemini-2.5-flash-lite\"\n",
    "\n",
    "client = genai.Client()\n",
    "\n",
    "\n",
    "def preprocess_query(user_query: str, model:str) -> str:\n",
    "        \"\"\"\n",
    "        Preprocess and enhance the user query for better retrieval\n",
    "        \n",
    "        Args:\n",
    "            user_query: Raw user input\n",
    "            \n",
    "        Returns:\n",
    "            Enhanced query for vector search\n",
    "        \"\"\"\n",
    "        enhancement_prompt = f\"\"\"\n",
    "        Analyze this user query and create an optimized search query that would help find relevant documents:\n",
    "        \n",
    "        User Query: \"{user_query}\"\n",
    "        \n",
    "        Provide a refined search query that:\n",
    "        1. Extracts key concepts and keywords\n",
    "        2. Removes unnecessary words\n",
    "        3. Includes relevant synonyms or related terms\n",
    "        4. Maintains the original intent\n",
    "        \n",
    "        Return only the optimized search query, nothing else.\n",
    "        \"\"\"\n",
    "        \n",
    "        try:\n",
    "            res = response = client.models.generate_content(\n",
    "            model=model,\n",
    "            contents=enhancement_prompt,\n",
    "            config=types.GenerateContentConfig(\n",
    "            thinking_config=types.ThinkingConfig(thinking_budget=0) # Disables thinking\n",
    "            ),\n",
    "        )\n",
    "            enhanced_query = response.text.strip()\n",
    "            return enhanced_query if enhanced_query else user_query\n",
    "        except Exception as e:\n",
    "            print(f\"Query preprocessing failed: {e}\")\n",
    "            return user_query\n",
    "\n",
    "print(f\"Preprocessed user query: {preprocess_query('Whats the duration for the insurance plan?', model)}\")"
   ]
  },
  {
   "cell_type": "code",
   "execution_count": null,
   "id": "ff932ad4",
   "metadata": {},
   "outputs": [],
   "source": []
  }
 ],
 "metadata": {
  "kernelspec": {
   "display_name": "myenv",
   "language": "python",
   "name": "python3"
  },
  "language_info": {
   "codemirror_mode": {
    "name": "ipython",
    "version": 3
   },
   "file_extension": ".py",
   "mimetype": "text/x-python",
   "name": "python",
   "nbconvert_exporter": "python",
   "pygments_lexer": "ipython3",
   "version": "3.12.2"
  }
 },
 "nbformat": 4,
 "nbformat_minor": 5
}
